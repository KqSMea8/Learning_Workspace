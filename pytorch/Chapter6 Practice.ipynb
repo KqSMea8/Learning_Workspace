{
 "cells": [
  {
   "cell_type": "markdown",
   "metadata": {},
   "source": [
    "# 猫和狗二分类\n",
    "一般深度学习的程序都需要实现以下功能：  \n",
    "* 模型定义  \n",
    "* 数据处理和加载  \n",
    "* 训练模型  \n",
    "* 训练过程可视化  \n",
    "* 测试  \n",
    "\n",
    "\n",
    "其中比较重要的三个：  \n",
    "* 模型定义  \n",
    "* 数据加载  \n",
    "* 训练和测试  \n",
    "\n",
    "程序文件的组织结构：  \n",
    "```python\n",
    "checkpoints/  \n",
    "data/  \n",
    "    __init__.py  \n",
    "    dataset.py  \n",
    "    get_data.sh  \n",
    "models/  \n",
    "    __init__.py  \n",
    "    AlexNet.py  \n",
    "    BasicModule.py  \n",
    "    ResNet34.py  \n",
    "utils/  \n",
    "    __init__.py  \n",
    "    visualize.py  \n",
    "config.py  \n",
    "main.py  \n",
    "requirements.txt  \n",
    "README.md  \n",
    "```"
   ]
  },
  {
   "cell_type": "code",
   "execution_count": null,
   "metadata": {},
   "outputs": [],
   "source": []
  }
 ],
 "metadata": {
  "kernelspec": {
   "display_name": "Python 3",
   "language": "python",
   "name": "python3"
  },
  "language_info": {
   "codemirror_mode": {
    "name": "ipython",
    "version": 3
   },
   "file_extension": ".py",
   "mimetype": "text/x-python",
   "name": "python",
   "nbconvert_exporter": "python",
   "pygments_lexer": "ipython3",
   "version": "3.6.8"
  }
 },
 "nbformat": 4,
 "nbformat_minor": 2
}
