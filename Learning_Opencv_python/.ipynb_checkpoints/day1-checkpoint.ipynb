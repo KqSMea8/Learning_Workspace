{
 "cells": [
  {
   "cell_type": "markdown",
   "metadata": {},
   "source": [
    "# 代码性能优化\n",
    "## 评估代码运行时间"
   ]
  },
  {
   "cell_type": "code",
   "execution_count": 1,
   "metadata": {},
   "outputs": [
    {
     "name": "stdout",
     "output_type": "stream",
     "text": [
      "3.2641e-05\n"
     ]
    }
   ],
   "source": [
    "# 用opencv的函数\n",
    "import cv2\n",
    "start = cv2.getTickCount()\n",
    "#######test code here#####\n",
    "end = cv2.getTickCount()\n",
    "print((end - start) / cv2.getTickFrequency())"
   ]
  },
  {
   "cell_type": "code",
   "execution_count": 2,
   "metadata": {},
   "outputs": [
    {
     "name": "stdout",
     "output_type": "stream",
     "text": [
      "4.4000000000155026e-05\n"
     ]
    }
   ],
   "source": [
    "# 用python中的time模块\n",
    "import time\n",
    "start = time.clock()\n",
    "############code#############\n",
    "end = time.clock()\n",
    "\n",
    "print(end-start)"
   ]
  },
  {
   "cell_type": "code",
   "execution_count": 5,
   "metadata": {},
   "outputs": [
    {
     "name": "stdout",
     "output_type": "stream",
     "text": [
      "CPU times: user 339 ms, sys: 210 µs, total: 339 ms\n",
      "Wall time: 339 ms\n"
     ]
    },
    {
     "data": {
      "text/plain": [
       "{1}"
      ]
     },
     "execution_count": 5,
     "metadata": {},
     "output_type": "execute_result"
    }
   ],
   "source": [
    "%time {1 for i in range(10*1000000)}"
   ]
  },
  {
   "cell_type": "code",
   "execution_count": 6,
   "metadata": {},
   "outputs": [],
   "source": [
    "import numpy as np\n",
    "# 数据少时用python语法，数据元素多时用numpy\n",
    "x = 10\n",
    "z = np.uint8([10])"
   ]
  },
  {
   "cell_type": "code",
   "execution_count": 7,
   "metadata": {},
   "outputs": [
    {
     "name": "stdout",
     "output_type": "stream",
     "text": [
      "CPU times: user 4 µs, sys: 0 ns, total: 4 µs\n",
      "Wall time: 7.39 µs\n"
     ]
    },
    {
     "data": {
      "text/plain": [
       "1000"
      ]
     },
     "execution_count": 7,
     "metadata": {},
     "output_type": "execute_result"
    }
   ],
   "source": [
    "%time x * x * x"
   ]
  },
  {
   "cell_type": "code",
   "execution_count": 8,
   "metadata": {},
   "outputs": [
    {
     "name": "stdout",
     "output_type": "stream",
     "text": [
      "CPU times: user 5 µs, sys: 1 µs, total: 6 µs\n",
      "Wall time: 8.11 µs\n"
     ]
    }
   ],
   "source": [
    "%time y = x**3"
   ]
  },
  {
   "cell_type": "code",
   "execution_count": 9,
   "metadata": {},
   "outputs": [
    {
     "name": "stdout",
     "output_type": "stream",
     "text": [
      "CPU times: user 122 µs, sys: 0 ns, total: 122 µs\n",
      "Wall time: 355 µs\n"
     ]
    }
   ],
   "source": [
    "%time y = z * z * z\n",
    "# numpy的运行速度并不一定比python本身语法快"
   ]
  },
  {
   "cell_type": "markdown",
   "metadata": {},
   "source": [
    "# 基本元素 图片"
   ]
  },
  {
   "cell_type": "markdown",
   "metadata": {},
   "source": [
    "**OpenCV中彩色图是以B-G-R通道顺序存储的，灰度图只有一个通道。**"
   ]
  },
  {
   "cell_type": "code",
   "execution_count": 1,
   "metadata": {},
   "outputs": [],
   "source": [
    "# 加载图片 cv2.imread()\n",
    "import cv2\n",
    "# 加载灰度图\n",
    "img = cv2.imread('lena.jpg', 0)"
   ]
  },
  {
   "cell_type": "markdown",
   "metadata": {},
   "source": [
    "* 参数1：图片的文件名\n",
    "\n",
    "    * 如果图片放在当前文件夹下，直接写文件名就行了，如’lena.jpg’\n",
    "    * 否则需要给出绝对路径，如’D:\\OpenCVSamples\\lena.jpg’\n",
    "* 参数2：读入方式，省略即采用默认值\n",
    "\n",
    "    * cv2.IMREAD_COLOR：彩色图，默认值(1)\n",
    "    * cv2.IMREAD_GRAYSCALE：灰度图(0)\n",
    "    * cv2.IMREAD_UNCHANGED：包含透明通道的彩色图(-1)  \n",
    "    \n",
    "    \n",
    "**经验之谈：路径中不能有中文噢，并且没有加载成功的话是不会报错的，print(img)的结果为None，后面处理才会报错，算是个小坑。**"
   ]
  },
  {
   "cell_type": "code",
   "execution_count": 2,
   "metadata": {},
   "outputs": [
    {
     "data": {
      "text/plain": [
       "-1"
      ]
     },
     "execution_count": 2,
     "metadata": {},
     "output_type": "execute_result"
    }
   ],
   "source": [
    "# 使用cv2.imshow()显示图片，窗口会自适应图片的大小：\n",
    "# 参数1是窗口的名字，参数2是要显示的图片。\n",
    "cv2.imshow('lena', img)\n",
    "# cv2.waitKey()是让程序暂停的意思，参数是等待时间（毫秒ms）。\n",
    "# 时间一到，会继续执行接下来的程序，传入0的话表示一直等待。\n",
    "# 等待期间也可以获取用户的按键输入：k = cv2.waitKey(0)\n",
    "cv2.waitKey(0)"
   ]
  },
  {
   "cell_type": "code",
   "execution_count": 3,
   "metadata": {},
   "outputs": [
    {
     "data": {
      "text/plain": [
       "True"
      ]
     },
     "execution_count": 3,
     "metadata": {},
     "output_type": "execute_result"
    }
   ],
   "source": [
    "# 保存图片\n",
    "cv2.imwrite('lena.gray.jpg', img)"
   ]
  },
  {
   "cell_type": "markdown",
   "metadata": {},
   "source": [
    "**练习**:  \n",
    "打开lena.jpg并显示，如果按下’s’，就保存图片为’lena_save.bmp’，否则就结束程序。"
   ]
  },
  {
   "cell_type": "code",
   "execution_count": 8,
   "metadata": {},
   "outputs": [],
   "source": [
    "import cv2\n",
    "img = cv2.imread('lena.jpg')\n",
    "cv2.imshow('lena', img)\n",
    "k = cv2.waitKey(0)\n",
    "if k  == 's':\n",
    "   cv2.imwrite('lena_save.bmp', img)"
   ]
  },
  {
   "cell_type": "code",
   "execution_count": null,
   "metadata": {},
   "outputs": [],
   "source": []
  }
 ],
 "metadata": {
  "kernelspec": {
   "display_name": "Python 3",
   "language": "python",
   "name": "python3"
  },
  "language_info": {
   "codemirror_mode": {
    "name": "ipython",
    "version": 3
   },
   "file_extension": ".py",
   "mimetype": "text/x-python",
   "name": "python",
   "nbconvert_exporter": "python",
   "pygments_lexer": "ipython3",
   "version": "3.6.8"
  }
 },
 "nbformat": 4,
 "nbformat_minor": 2
}
